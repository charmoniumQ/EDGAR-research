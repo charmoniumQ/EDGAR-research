{
 "cells": [
  {
   "cell_type": "code",
   "execution_count": 20,
   "metadata": {
    "collapsed": false
   },
   "outputs": [
    {
     "ename": "ImportError",
     "evalue": "No module named 'pyspark'",
     "output_type": "error",
     "traceback": [
      "\u001b[0;31m---------------------------------------------------------------------------\u001b[0m",
      "\u001b[0;31mImportError\u001b[0m                               Traceback (most recent call last)",
      "\u001b[0;32m<ipython-input-20-7014e322d98d>\u001b[0m in \u001b[0;36m<module>\u001b[0;34m()\u001b[0m\n\u001b[1;32m     17\u001b[0m \u001b[0;32mfrom\u001b[0m \u001b[0mutil\u001b[0m\u001b[0;34m.\u001b[0m\u001b[0mstem\u001b[0m \u001b[0;32mimport\u001b[0m \u001b[0mstem_list\u001b[0m\u001b[0;34m\u001b[0m\u001b[0m\n\u001b[1;32m     18\u001b[0m \u001b[0;32mfrom\u001b[0m \u001b[0mmining\u001b[0m\u001b[0;34m.\u001b[0m\u001b[0mparsing\u001b[0m \u001b[0;32mimport\u001b[0m \u001b[0mParseError\u001b[0m\u001b[0;34m\u001b[0m\u001b[0m\n\u001b[0;32m---> 19\u001b[0;31m \u001b[0;32mfrom\u001b[0m \u001b[0mcluster_config\u001b[0m \u001b[0;32mimport\u001b[0m \u001b[0minit_spark\u001b[0m\u001b[0;34m\u001b[0m\u001b[0m\n\u001b[0m",
      "\u001b[0;32m/home/sam/box/dev/EDGAR-research/cluster_config/init_spark.py\u001b[0m in \u001b[0;36m<module>\u001b[0;34m()\u001b[0m\n\u001b[1;32m      1\u001b[0m \u001b[0;32mimport\u001b[0m \u001b[0mglob\u001b[0m\u001b[0;34m\u001b[0m\u001b[0m\n\u001b[0;32m----> 2\u001b[0;31m \u001b[0;32mimport\u001b[0m \u001b[0mpyspark\u001b[0m\u001b[0;34m\u001b[0m\u001b[0m\n\u001b[0m\u001b[1;32m      3\u001b[0m \u001b[0;32mfrom\u001b[0m \u001b[0mhaikunator\u001b[0m \u001b[0;32mimport\u001b[0m \u001b[0mHaikunator\u001b[0m\u001b[0;34m\u001b[0m\u001b[0m\n\u001b[1;32m      4\u001b[0m \u001b[0;34m\u001b[0m\u001b[0m\n\u001b[1;32m      5\u001b[0m \u001b[0mmy_sc\u001b[0m \u001b[0;34m=\u001b[0m \u001b[0;32mNone\u001b[0m\u001b[0;34m\u001b[0m\u001b[0m\n",
      "\u001b[0;31mImportError\u001b[0m: No module named 'pyspark'"
     ]
    }
   ],
   "source": [
    "%matplotlib inline\n",
    "\n",
    "import sys\n",
    "import pathlib\n",
    "sys.path.insert(0, str(pathlib.Path('..').resolve()))\n",
    "\n",
    "import itertools\n",
    "import matplotlib.pyplot as pyplot\n",
    "import random\n",
    "import collections\n",
    "import re\n",
    "random.seed(0)\n",
    "\n",
    "from mining.retrieve_index import get_index\n",
    "from mining.retrieve_10k import get_10k_items\n",
    "from util.paragraphs import to_paragraphs, group_paragraphs\n",
    "from util.stem import stem_list\n",
    "from mining.parsing import ParseError\n",
    "#from cluster_config import init_spark"
   ]
  },
  {
   "cell_type": "code",
   "execution_count": 4,
   "metadata": {
    "collapsed": false
   },
   "outputs": [],
   "source": [
    "def sample_iterator(it, p, max=None):\n",
    "    if max is not None:\n",
    "        yield from itertools.islice(sample_iterator(it, p), 0, max)\n",
    "    else:\n",
    "        for elem in it:\n",
    "            if random.random() < p:\n",
    "                yield elem"
   ]
  },
  {
   "cell_type": "code",
   "execution_count": 5,
   "metadata": {
    "collapsed": true
   },
   "outputs": [],
   "source": [
    "def n_gram(it, n):\n",
    "    it = iter(it)\n",
    "    while True:\n",
    "        ret = tuple(itertools.islice(it, 0, n))\n",
    "        if ret:\n",
    "            yield ret\n",
    "        else:\n",
    "            break"
   ]
  },
  {
   "cell_type": "code",
   "execution_count": 3,
   "metadata": {
    "collapsed": true
   },
   "outputs": [],
   "source": [
    "def get_index_range(year_range, form_type):\n",
    "    for year in year_range:\n",
    "        for qtr in range(1, 4):\n",
    "            yield from get_index(year, qtr, form_type)"
   ]
  },
  {
   "cell_type": "code",
   "execution_count": 19,
   "metadata": {
    "collapsed": false
   },
   "outputs": [
    {
     "ename": "NameError",
     "evalue": "name 'init_spark' is not defined",
     "output_type": "error",
     "traceback": [
      "\u001b[0;31m---------------------------------------------------------------------------\u001b[0m",
      "\u001b[0;31mNameError\u001b[0m                                 Traceback (most recent call last)",
      "\u001b[0;32m<ipython-input-19-a72dcfe7acd8>\u001b[0m in \u001b[0;36m<module>\u001b[0;34m()\u001b[0m\n\u001b[0;32m----> 1\u001b[0;31m \u001b[0minit_spark\u001b[0m\u001b[0;34m(\u001b[0m\u001b[0;34m'save rf'\u001b[0m\u001b[0;34m)\u001b[0m\u001b[0;34m\u001b[0m\u001b[0m\n\u001b[0m",
      "\u001b[0;31mNameError\u001b[0m: name 'init_spark' is not defined"
     ]
    }
   ],
   "source": [
    "sc = init_spark('save rf')\n",
    "sc."
   ]
  },
  {
   "cell_type": "code",
   "execution_count": 16,
   "metadata": {
    "collapsed": false
   },
   "outputs": [],
   "source": [
    "def get_items(records):\n",
    "    for record in records:\n",
    "        try:\n",
    "            form = get_10k_items(record['Filename'], enable_cache=False)\n",
    "        except ParseError as e:\n",
    "            print(record)\n",
    "            print(str(e))\n",
    "        if item in form:\n",
    "            yield form[item]"
   ]
  },
  {
   "cell_type": "code",
   "execution_count": 6,
   "metadata": {
    "collapsed": false
   },
   "outputs": [
    {
     "name": "stdout",
     "output_type": "stream",
     "text": [
      "0.0002701242571582928 0.00423728813559322 0.00013950892857142856 7404 236 2 1\n",
      "0.000675310642895732 0.00847457627118644 0.0004185267857142857 7404 236 5 2\n",
      "0.00675310642895732 0.09322033898305085 0.00390625 7404 236 50 22\n",
      "0.0001350621285791464 0.00423728813559322 0.0 7404 236 1 1\n",
      "0.0008103727714748784 0.00423728813559322 0.0006975446428571429 7404 236 6 1\n",
      "0.0008103727714748784 0.00423728813559322 0.0006975446428571429 7404 236 6 1\n",
      "0.0002701242571582928 0.00423728813559322 0.00013950892857142856 7404 236 2 1\n",
      "0.0009454349000540249 0.00423728813559322 0.0008370535714285714 7404 236 7 1\n",
      "0.0008103727714748784 0.00847457627118644 0.0005580357142857143 7404 236 6 2\n",
      "0.009049162614802809 0.038135593220338986 0.008091517857142858 7404 236 67 9\n",
      "0.0001350621285791464 0.00423728813559322 0.0 7404 236 1 1\n",
      "0.0001350621285791464 0.00423728813559322 0.0 7404 236 1 1\n",
      "0.0004051863857374392 0.00423728813559322 0.00027901785714285713 7404 236 3 1\n",
      "0.0004051863857374392 0.00423728813559322 0.00027901785714285713 7404 236 3 1\n",
      "0.0008103727714748784 0.012711864406779662 0.0004185267857142857 7404 236 6 3\n",
      "0.0001350621285791464 0.00423728813559322 0.0 7404 236 1 1\n",
      "0.0004051863857374392 0.00423728813559322 0.00027901785714285713 7404 236 3 1\n",
      "0.009994597514856833 0.012711864406779662 0.009905133928571428 7404 236 74 3\n",
      "0.0009454349000540249 0.00423728813559322 0.0008370535714285714 7404 236 7 1\n",
      "0.0001350621285791464 0.00423728813559322 0.0 7404 236 1 1\n",
      "0.000675310642895732 0.00423728813559322 0.0005580357142857143 7404 236 5 1\n",
      "0.0004051863857374392 0.00423728813559322 0.00027901785714285713 7404 236 3 1\n",
      "0.0002701242571582928 0.00847457627118644 0.0 7404 236 2 2\n",
      "0.0002701242571582928 0.00423728813559322 0.00013950892857142856 7404 236 2 1\n",
      "0.02188006482982172 0.0847457627118644 0.019810267857142856 7404 236 162 20\n",
      "0.0002701242571582928 0.00423728813559322 0.00013950892857142856 7404 236 2 1\n",
      "0.004862236628849271 0.0423728813559322 0.003627232142857143 7404 236 36 10\n",
      "0.0002701242571582928 0.00847457627118644 0.0 7404 236 2 2\n",
      "0.0004051863857374392 0.00423728813559322 0.00027901785714285713 7404 236 3 1\n",
      "0.0017558076715289033 0.00423728813559322 0.0016741071428571428 7404 236 13 1\n",
      "0.0002701242571582928 0.00423728813559322 0.00013950892857142856 7404 236 2 1\n",
      "0.0014856834143706105 0.00423728813559322 0.0013950892857142857 7404 236 11 1\n",
      "0.0004051863857374392 0.00847457627118644 0.00013950892857142856 7404 236 3 2\n",
      "0.0017558076715289033 0.00423728813559322 0.0016741071428571428 7404 236 13 1\n",
      "0.0001350621285791464 0.00423728813559322 0.0 7404 236 1 1\n",
      "0.001350621285791464 0.00847457627118644 0.0011160714285714285 7404 236 10 2\n",
      "0.0005402485143165856 0.00847457627118644 0.00027901785714285713 7404 236 4 2\n",
      "0.0004051863857374392 0.00423728813559322 0.00027901785714285713 7404 236 3 1\n",
      "0.0012155591572123178 0.00423728813559322 0.0011160714285714285 7404 236 9 1\n",
      "0.0032414910858995136 0.00423728813559322 0.003208705357142857 7404 236 24 1\n",
      "0.004321988114532685 0.01694915254237288 0.00390625 7404 236 32 4\n",
      "0.0004051863857374392 0.00423728813559322 0.00027901785714285713 7404 236 3 1\n",
      "0.021609940572663425 0.1906779661016949 0.016043526785714284 7404 236 160 45\n",
      "0.0009454349000540249 0.00423728813559322 0.0008370535714285714 7404 236 7 1\n",
      "0.048217179902755265 0.11440677966101695 0.04603794642857143 7404 236 357 27\n",
      "0.0004051863857374392 0.00423728813559322 0.00027901785714285713 7404 236 3 1\n",
      "0.0004051863857374392 0.00423728813559322 0.00027901785714285713 7404 236 3 1\n",
      "0.000675310642895732 0.00423728813559322 0.0005580357142857143 7404 236 5 1\n",
      "0.0014856834143706105 0.00423728813559322 0.0013950892857142857 7404 236 11 1\n",
      "0.0004051863857374392 0.00423728813559322 0.00027901785714285713 7404 236 3 1\n",
      "0.007698541329011345 0.00423728813559322 0.0078125 7404 236 57 1\n",
      "0.0009454349000540249 0.00423728813559322 0.0008370535714285714 7404 236 7 1\n",
      "0.0002701242571582928 0.00423728813559322 0.00013950892857142856 7404 236 2 1\n",
      "0.027552674230145867 0.0635593220338983 0.0263671875 7404 236 204 15\n",
      "0.0035116153430578066 0.029661016949152543 0.002650669642857143 7404 236 26 7\n",
      "0.0009454349000540249 0.00423728813559322 0.0008370535714285714 7404 236 7 1\n",
      "0.0002701242571582928 0.00423728813559322 0.00013950892857142856 7404 236 2 1\n",
      "0.0005402485143165856 0.01694915254237288 0.0 7404 236 4 4\n",
      "0.0004051863857374392 0.012711864406779662 0.0 7404 236 3 3\n",
      "0.03862776877363587 0.00847457627118644 0.03962053571428571 7404 236 286 2\n",
      ",, statement, forward-look, and, in, our, ., contain, such, may\n",
      "contain in, forward-look statement, from those, other thing, such forward-look, made by, our futur, press releas, e may, risk describ\n",
      "of, million, senior, ,, our, ., secur, $, to, 31\n",
      "an addit, senior secur, are permit, at decemb, option of, credit facil, subject to, $ 69, debt under, s of\n",
      "our, the, to, indebted, and, senior, ., in, ,, abl\n",
      "contain in, indebted is, in the, If new, senior subordin, incur substanti, our senior, may be, ., the restrict\n",
      "the, ,, our, to, and, ., of, secur, senior, credit\n",
      "secur credit, the senior, credit facil, senior secur, our abil, under the, these coven, facil and, facil ., that we\n",
      "to, and, our, ,, ., or, the, oblig, not, may\n",
      "our debt, servic oblig, may not, dispos of, , we, or to, to meet, our indebted, us to, on or\n",
      "our, to, ,, subsidiari, ., of, and, make, abil, or\n",
      "our subsidiari, to make, of our, our indebted, to us, to pay, payment in, abil to, , is, on such\n",
      "our, to, and, ,, could, ., custom, standard, of, be\n",
      ", our, fail to, . If, , and, be damag, and market, to adopt, qualiti compon, gener on, of product\n",
      ",, of, ., for, a, the, sale, our, and, net\n",
      "net sale, boston scientif, number of, that we, the loss, our net, for a, of our, will reach, of custom\n",
      "to, ., of, our, the, compani, and, ,, outsourc, medic\n",
      "medic devic, by medic, devic compani, oper ., properti right, could caus, current assembl, busi ., of product, while industri\n",
      "our, of, ,, in, ;, and, result, the, to, a\n",
      "our customers’, of our, , which, time of, result in, our oper, revenu ;, our cost, materi ,, chang in\n",
      "and, ,, our, to, we, competit, of, ., custom, compani\n",
      "medic devic, and manufactur, and market, base ,, As more, veri competit, , personnel, , prototyp, our exist, , technic\n",
      "and, our, facil, custom, ,, or, to, could, in, .\n",
      "custom and, the servic, could damag, consolid and, facil ., shift product, outsourc vendor, , which, longer use, with our\n",
      ",, our, and, or, ., could, to, technolog, product, result\n",
      "for our, which could, busi ,, not result, that finish, , particularli, medic devic, viabl process, result ., or obsolet\n",
      ",, and, ., our, product, in, of, materi, raw, to\n",
      "raw materi, and product, , we, product feedstock, materi and, , tantalum, fluctuat in, of raw, feedstock use, stainless steel\n",
      "our, and, in, ,, oper, of, the, intern, or, to\n",
      "which is, in the, sale from, gener by, , could, intern oper, a particular, europ and, and difficulti, facil .\n",
      "new, ,, and, market, our, into, ., to, in, expand\n",
      "new market, expand into, in new, through the, improv manufactur, e may, , develop, busi ., other aspect, design and\n",
      ",, ., our, to, and, the, or, of, have, a\n",
      "in the, have a, a result, In addit, our product, hazard chemic, for violat, to futur, on the, on us\n",
      ",, and, to, of, our, we, may, or, ., be\n",
      "we may, intellectu properti, may be, properti right, of our, protect our, in the, or other, infring claim, , and\n",
      "to, ,, or, the, of, ., and, our, product, in\n",
      "respond to, or recal, liabil claim, of our, to product, be requir, we will, medic devic, . We, product recal\n",
      ",, and, the, ., to, regul, industri, in, or, healthcar\n",
      "our oper, In addit, feder and, the medic, devic industri, , ani, contain propos, chang frequent, healthcar industri, oper .\n",
      "to, industri, ,, ., compani, and, healthcar, consolid, our, power\n",
      "medic devic, industri particip, will becom, suffer ., in the, that incorpor, to provid, condit and, of consolid, industri consolid\n",
      ",, to, our, and, the, of, for, ., custom, devic\n",
      "our custom, the cost, discount price, parti payor, on third, insur compani, , in, amount we, design and, and other\n",
      ",, our, ., to, could, and, in, or, result, accid\n",
      "involv complex, or death, to satisfi, other resourc, oper or, and could, , which, employ safeti, and hazard, can be\n",
      ",, of, the, our, goodwil, ., net, fair, could, is\n",
      "fair valu, of the, our total, oper ., on the, , which, , of, s of, impair ,, is subject\n",
      ",, or, and, capit, avail, ., to, addit, requir, be\n",
      ". If, , we, cash gener, capit in, credit facil, and result, curtail our, of operations—liquid, intern is, under our\n",
      ",, ., our, and, to, of, oper, the, custom, sale\n",
      "power gener, and industri, oper ., lamp ,, e have, our net, , motion, impact our, market due, medic devic\n",
      "the, of, ,, or, erp, system, ., our, and, in\n",
      "erp system, the erp, of the, in the, . ani, the integr, busi ,, be no, system ,, a materi\n",
      ",, our, of, ., and, the, We, senior, manag, ron\n",
      "of our, senior manag, ani of, offic ., oper ., make up, do not, insur for, gari D., our senior\n",
      "our, to, ., and, personnel, in, ,, engin, or, may\n",
      "personnel ., our abil, engin with, abil to, other compani, compet with, and provid, in the, or in, , which\n",
      "to, ,, and, compon, may, our, ., product, on, or\n",
      "and compon, product and, , we, third parti, supplier may, ani of, abil to, compon from, on term, occur ,\n",
      ",, of, and, the, to, we, our, oper, not, .\n",
      "integr of, to the, busi ,, in the, success integr, manag of, , includ, , we, to identifi, we may\n",
      "our, ,, in, of, the, to, and, sponsor, ., or\n",
      "in the, conflict with, signific amount, refer to, as the, , control, ffiliat of, to influenc, in compani, busi of\n"
     ]
    }
   ],
   "source": [
    "def vectorize(rfs):\n",
    "    for rf in rfs:\n",
    "        groups = group_paragraphs(to_paragraphs(form[item]))\n",
    "        for header, paragraphs in groups:\n",
    "            if paragraphs:\n",
    "                body = ' '.join(' '.join(paragraph) for paragraph in paragraphs)\n",
    "                body = re.sub('[^a-zA-Z ]', '', body)\n",
    "                words = list(stem_list(body))\n",
    "                unigram = collections.Counter(words)\n",
    "                bigram = collections.Counter(n_gram(words, 2))\n",
    "                corpus.append((unigram, bigram))\n",
    "                print(', '.join(unigram for unigram, count in unigram.most_common(10)))\n",
    "                print(', '.join(' '.join(bigram) for bigram, count in bigram.most_common(10)))\n",
    "    else:\n",
    "        print(form.keys())"
   ]
  },
  {
   "cell_type": "code",
   "execution_count": 3,
   "metadata": {
    "collapsed": true
   },
   "outputs": [],
   "source": [
    "year_range = range(2006, 2017)\n",
    "form_type = '10-k'\n",
    "item = '1a'"
   ]
  },
  {
   "cell_type": "code",
   "execution_count": null,
   "metadata": {
    "collapsed": true
   },
   "outputs": [],
   "source": [
    "items = (\n",
    "    get_items(\n",
    "        random_sample(\n",
    "            get_index_range(year_range, form_type),\n",
    "            0.01)))"
   ]
  },
  {
   "cell_type": "raw",
   "metadata": {},
   "source": [
    "it = iter(get_range(year_range, form_type))\n",
    "while True:\n",
    "    next(it)"
   ]
  },
  {
   "cell_type": "code",
   "execution_count": 14,
   "metadata": {
    "collapsed": false
   },
   "outputs": [
    {
     "name": "stdout",
     "output_type": "stream",
     "text": [
      "hi\n"
     ]
    }
   ],
   "source": [
    "from util.supress import supress\n",
    "with supress():\n",
    "    print('hi')"
   ]
  },
  {
   "cell_type": "code",
   "execution_count": null,
   "metadata": {
    "collapsed": true
   },
   "outputs": [],
   "source": []
  }
 ],
 "metadata": {
  "kernelspec": {
   "display_name": "Python 3",
   "language": "python",
   "name": "python3"
  },
  "language_info": {
   "codemirror_mode": {
    "name": "ipython",
    "version": 3
   },
   "file_extension": ".py",
   "mimetype": "text/x-python",
   "name": "python",
   "nbconvert_exporter": "python",
   "pygments_lexer": "ipython3",
   "version": "3.5.3"
  }
 },
 "nbformat": 4,
 "nbformat_minor": 2
}
