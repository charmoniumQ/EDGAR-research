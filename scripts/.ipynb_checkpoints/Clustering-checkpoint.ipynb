{
 "cells": [
  {
   "cell_type": "code",
   "execution_count": 1,
   "metadata": {
    "collapsed": false
   },
   "outputs": [],
   "source": [
    "%matplotlib inline\n",
    "import sys\n",
    "import pathlib\n",
    "sys.path.insert(0, str(pathlib.Path('..').resolve()))\n",
    "\n",
    "import itertools\n",
    "import matplotlib.pyplot as pyplot\n",
    "import random\n",
    "import collections\n",
    "random.seed(0)\n",
    "\n",
    "from mining.retrieve_index import get_index\n",
    "from mining.retrieve_10k import get_10k_items\n",
    "from util.paragraphs import to_paragraphs, group_paragraphs\n",
    "from util.stem import stem_list\n",
    "from mining.parsing import ParseError"
   ]
  },
  {
   "cell_type": "code",
   "execution_count": 2,
   "metadata": {
    "collapsed": true
   },
   "outputs": [],
   "source": [
    "def get_range(year_range, form_type):\n",
    "    for year in year_range:\n",
    "        for qtr in range(1, 4):\n",
    "            yield from get_index(year, qtr, form_type)"
   ]
  },
  {
   "cell_type": "code",
   "execution_count": 7,
   "metadata": {
    "collapsed": true
   },
   "outputs": [],
   "source": [
    "year_range = range(2006, 2017)\n",
    "form_type = '10-k'\n",
    "item = '1a'"
   ]
  },
  {
   "cell_type": "code",
   "execution_count": 8,
   "metadata": {
    "collapsed": false
   },
   "outputs": [],
   "source": [
    "def sample_iterator(it, p, max=None):\n",
    "    if max is not None:\n",
    "        yield from itertools.islice(sample_iterator(it, p), 0, max)\n",
    "    else:\n",
    "        for elem in it:\n",
    "            if random.random() < p:\n",
    "                yield elem"
   ]
  },
  {
   "cell_type": "code",
   "execution_count": 9,
   "metadata": {
    "collapsed": true
   },
   "outputs": [],
   "source": [
    "def n_gram(it, n):\n",
    "    it = iter(it)\n",
    "    while True:\n",
    "        ret = tuple(itertools.islice(it, 0, n))\n",
    "        if ret:\n",
    "            yield ret\n",
    "        else:\n",
    "            break"
   ]
  },
  {
   "cell_type": "code",
   "execution_count": 10,
   "metadata": {
    "collapsed": false
   },
   "outputs": [
    {
     "name": "stdout",
     "output_type": "stream",
     "text": [
      "0.0007777561734396267 0.015306122448979591 0.00020214271275520516 5143 196 4 3\n",
      "0.00038887808671981335 0.00510204081632653 0.00020214271275520516 5143 196 2 1\n",
      "0.0033054637371184134 0.02040816326530612 0.0026278552658176675 5143 196 17 4\n",
      "0.014388489208633094 0.00510204081632653 0.014756418031129977 5143 196 74 1\n",
      "0.00038887808671981335 0.00510204081632653 0.00020214271275520516 5143 196 2 1\n",
      "0.04316546762589928 0.07142857142857142 0.04204568425308268 5143 196 222 14\n",
      "0.0009721952167995333 0.00510204081632653 0.0008085708510208206 5143 196 5 1\n",
      "0.00019443904335990667 0.00510204081632653 0.0 5143 196 1 1\n",
      "0.0013610733035193468 0.015306122448979591 0.0008085708510208206 5143 196 7 3\n",
      "0.00019443904335990667 0.00510204081632653 0.0 5143 196 1 1\n",
      "0.00058331713007972 0.00510204081632653 0.0004042854255104103 5143 196 3 1\n",
      "0.0042776589539179465 0.025510204081632654 0.003436426116838488 5143 196 22 5\n",
      "0.00019443904335990667 0.00510204081632653 0.0 5143 196 1 1\n",
      "0.00174995139023916 0.01020408163265306 0.0014149989892864362 5143 196 9 2\n",
      "0.00019443904335990667 0.00510204081632653 0.0 5143 196 1 1\n",
      "0.0007777561734396267 0.00510204081632653 0.0006064281382656155 5143 196 4 1\n",
      "0.00019443904335990667 0.00510204081632653 0.0 5143 196 1 1\n",
      "0.00038887808671981335 0.00510204081632653 0.00020214271275520516 5143 196 2 1\n",
      "0.0007777561734396267 0.015306122448979591 0.00020214271275520516 5143 196 4 3\n",
      "0.00019443904335990667 0.00510204081632653 0.0 5143 196 1 1\n",
      "0.0009721952167995333 0.01020408163265306 0.0006064281382656155 5143 196 5 2\n",
      "0.0013610733035193468 0.00510204081632653 0.001212856276531231 5143 196 7 1\n",
      "0.00038887808671981335 0.01020408163265306 0.0 5143 196 2 2\n",
      "0.00116663426015944 0.00510204081632653 0.001010713563776026 5143 196 6 1\n",
      "0.0013610733035193468 0.015306122448979591 0.0008085708510208206 5143 196 7 3\n",
      "0.0007777561734396267 0.01020408163265306 0.0004042854255104103 5143 196 4 2\n",
      "0.00058331713007972 0.00510204081632653 0.0004042854255104103 5143 196 3 1\n",
      "0.00019443904335990667 0.00510204081632653 0.0 5143 196 1 1\n",
      "0.02683258798366712 0.2193877551020408 0.019203557711744493 5143 196 138 43\n",
      "0.00524985417071748 0.08163265306122448 0.002223569840307257 5143 196 27 16\n",
      "0.02877697841726619 0.01020408163265306 0.029512836062259955 5143 196 148 2\n",
      "0.00058331713007972 0.00510204081632653 0.0004042854255104103 5143 196 3 1\n",
      "0.0042776589539179465 0.015306122448979591 0.003840711542348898 5143 196 22 3\n",
      "0.0009721952167995333 0.025510204081632654 0.0 5143 196 5 5\n",
      "0.00233326852031888 0.01020408163265306 0.002021427127552052 5143 196 12 2\n",
      "0.0009721952167995333 0.02040816326530612 0.00020214271275520516 5143 196 5 4\n",
      "0.00019443904335990667 0.00510204081632653 0.0 5143 196 1 1\n",
      "0.035193466848143104 0.061224489795918366 0.03416211845562967 5143 196 181 12\n",
      "0.022554929029749173 0.0663265306122449 0.020820699413786132 5143 196 116 13\n",
      "0.00019443904335990667 0.00510204081632653 0.0 5143 196 1 1\n",
      "0.0021388294769589733 0.01020408163265306 0.0018192844147968466 5143 196 11 2\n",
      "0.0019443904335990666 0.015306122448979591 0.0014149989892864362 5143 196 10 3\n",
      "0.0013610733035193468 0.00510204081632653 0.001212856276531231 5143 196 7 1\n",
      "0.0007777561734396267 0.00510204081632653 0.0006064281382656155 5143 196 4 1\n",
      "0.008944195994555707 0.03571428571428571 0.007883565797453002 5143 196 46 7\n",
      "0.0027221466070386936 0.00510204081632653 0.0026278552658176675 5143 196 14 1\n",
      "0.0007777561734396267 0.00510204081632653 0.0006064281382656155 5143 196 4 1\n",
      "0.00019443904335990667 0.00510204081632653 0.0 5143 196 1 1\n",
      "0.0038887808671981333 0.015306122448979591 0.003436426116838488 5143 196 20 3\n",
      "0.00019443904335990667 0.00510204081632653 0.0 5143 196 1 1\n"
     ]
    },
    {
     "ename": "NameError",
     "evalue": "name 'group' is not defined",
     "output_type": "error",
     "traceback": [
      "\u001b[0;31m---------------------------------------------------------------------------\u001b[0m",
      "\u001b[0;31mNameError\u001b[0m                                 Traceback (most recent call last)",
      "\u001b[0;32m<ipython-input-10-2551be001f33>\u001b[0m in \u001b[0;36m<module>\u001b[0;34m()\u001b[0m\n\u001b[1;32m      9\u001b[0m     \u001b[0;32mif\u001b[0m \u001b[0mitem\u001b[0m \u001b[0;32min\u001b[0m \u001b[0mform\u001b[0m\u001b[0;34m:\u001b[0m\u001b[0;34m\u001b[0m\u001b[0m\n\u001b[1;32m     10\u001b[0m         \u001b[0mgroups\u001b[0m \u001b[0;34m=\u001b[0m \u001b[0mgroup_paragraphs\u001b[0m\u001b[0;34m(\u001b[0m\u001b[0mto_paragraphs\u001b[0m\u001b[0;34m(\u001b[0m\u001b[0mform\u001b[0m\u001b[0;34m[\u001b[0m\u001b[0mitem\u001b[0m\u001b[0;34m]\u001b[0m\u001b[0;34m)\u001b[0m\u001b[0;34m)\u001b[0m\u001b[0;34m\u001b[0m\u001b[0m\n\u001b[0;32m---> 11\u001b[0;31m         \u001b[0;32mfor\u001b[0m \u001b[0mheader\u001b[0m\u001b[0;34m,\u001b[0m \u001b[0msentencecs\u001b[0m \u001b[0;32min\u001b[0m \u001b[0mgroup\u001b[0m\u001b[0;34m:\u001b[0m\u001b[0;34m\u001b[0m\u001b[0m\n\u001b[0m\u001b[1;32m     12\u001b[0m             \u001b[0;32mif\u001b[0m \u001b[0msentences\u001b[0m\u001b[0;34m:\u001b[0m\u001b[0;34m\u001b[0m\u001b[0m\n\u001b[1;32m     13\u001b[0m                 \u001b[0mbody\u001b[0m \u001b[0;34m=\u001b[0m \u001b[0mstem_list\u001b[0m\u001b[0;34m(\u001b[0m\u001b[0;34m' '\u001b[0m\u001b[0;34m.\u001b[0m\u001b[0mjoin\u001b[0m\u001b[0;34m(\u001b[0m\u001b[0msentences\u001b[0m\u001b[0;34m)\u001b[0m\u001b[0;34m)\u001b[0m\u001b[0;34m\u001b[0m\u001b[0m\n",
      "\u001b[0;31mNameError\u001b[0m: name 'group' is not defined"
     ]
    }
   ],
   "source": [
    "corpus = []\n",
    "index = get_range(year_range, form_type)\n",
    "for record in sample_iterator(index, 0.01, 1):\n",
    "    try:\n",
    "        form = get_10k_items(record['Filename'], enable_cache=False)\n",
    "    except ParseError as e:\n",
    "        print(record)\n",
    "        raise e\n",
    "    if item in form:\n",
    "        groups = group_paragraphs(to_paragraphs(form[item]))\n",
    "        for header, sentencecs in group:\n",
    "            if sentences:\n",
    "                body = stem_list(' '.join(sentences))\n",
    "                unigram = collections.Counter(body)\n",
    "                bigram = collections.Counter(n_gram(body, 2))\n",
    "            corpus.append((unigram, bigram))\n",
    "        print(corpus)\n",
    "    else:\n",
    "        print(form.keys())"
   ]
  },
  {
   "cell_type": "raw",
   "metadata": {},
   "source": [
    "it = iter(get_range(year_range, form_type))\n",
    "while True:\n",
    "    next(it)"
   ]
  }
 ],
 "metadata": {
  "kernelspec": {
   "display_name": "Python 3",
   "language": "python",
   "name": "python3"
  },
  "language_info": {
   "codemirror_mode": {
    "name": "ipython",
    "version": 3
   },
   "file_extension": ".py",
   "mimetype": "text/x-python",
   "name": "python",
   "nbconvert_exporter": "python",
   "pygments_lexer": "ipython3",
   "version": "3.5.3"
  }
 },
 "nbformat": 4,
 "nbformat_minor": 2
}
